{
  "nbformat": 4,
  "nbformat_minor": 0,
  "metadata": {
    "colab": {
      "name": "deepsat_sat-6_cnn.ipynb",
      "version": "0.3.2",
      "provenance": [],
      "collapsed_sections": []
    },
    "kernelspec": {
      "name": "python3",
      "display_name": "Python 3"
    },
    "accelerator": "GPU"
  },
  "cells": [
    {
      "cell_type": "code",
      "metadata": {
        "id": "t5Gp6VZ9MLuA",
        "colab_type": "code",
        "outputId": "71e22e9e-bd09-4e30-a02a-85c9b73ff02a",
        "colab": {
          "base_uri": "https://localhost:8080/",
          "height": 50
        }
      },
      "source": [
        "!pip install -U -q PyDrive"
      ],
      "execution_count": 0,
      "outputs": [
        {
          "output_type": "stream",
          "text": [
            "\u001b[?25l\r\u001b[K     |▎                               | 10kB 19.7MB/s eta 0:00:01\r\u001b[K     |▋                               | 20kB 7.5MB/s eta 0:00:01\r\u001b[K     |█                               | 30kB 10.5MB/s eta 0:00:01\r\u001b[K     |█▎                              | 40kB 6.4MB/s eta 0:00:01\r\u001b[K     |█▋                              | 51kB 7.7MB/s eta 0:00:01\r\u001b[K     |██                              | 61kB 9.1MB/s eta 0:00:01\r\u001b[K     |██▎                             | 71kB 8.3MB/s eta 0:00:01\r\u001b[K     |██▋                             | 81kB 9.1MB/s eta 0:00:01\r\u001b[K     |███                             | 92kB 10.0MB/s eta 0:00:01\r\u001b[K     |███▎                            | 102kB 10.0MB/s eta 0:00:01\r\u001b[K     |███▋                            | 112kB 10.0MB/s eta 0:00:01\r\u001b[K     |████                            | 122kB 10.0MB/s eta 0:00:01\r\u001b[K     |████▎                           | 133kB 10.0MB/s eta 0:00:01\r\u001b[K     |████▋                           | 143kB 10.0MB/s eta 0:00:01\r\u001b[K     |█████                           | 153kB 10.0MB/s eta 0:00:01\r\u001b[K     |█████▎                          | 163kB 10.0MB/s eta 0:00:01\r\u001b[K     |█████▋                          | 174kB 10.0MB/s eta 0:00:01\r\u001b[K     |██████                          | 184kB 10.0MB/s eta 0:00:01\r\u001b[K     |██████▎                         | 194kB 10.0MB/s eta 0:00:01\r\u001b[K     |██████▋                         | 204kB 10.0MB/s eta 0:00:01\r\u001b[K     |███████                         | 215kB 10.0MB/s eta 0:00:01\r\u001b[K     |███████▎                        | 225kB 10.0MB/s eta 0:00:01\r\u001b[K     |███████▋                        | 235kB 10.0MB/s eta 0:00:01\r\u001b[K     |████████                        | 245kB 10.0MB/s eta 0:00:01\r\u001b[K     |████████▎                       | 256kB 10.0MB/s eta 0:00:01\r\u001b[K     |████████▋                       | 266kB 10.0MB/s eta 0:00:01\r\u001b[K     |█████████                       | 276kB 10.0MB/s eta 0:00:01\r\u001b[K     |█████████▎                      | 286kB 10.0MB/s eta 0:00:01\r\u001b[K     |█████████▋                      | 296kB 10.0MB/s eta 0:00:01\r\u001b[K     |██████████                      | 307kB 10.0MB/s eta 0:00:01\r\u001b[K     |██████████▎                     | 317kB 10.0MB/s eta 0:00:01\r\u001b[K     |██████████▋                     | 327kB 10.0MB/s eta 0:00:01\r\u001b[K     |███████████                     | 337kB 10.0MB/s eta 0:00:01\r\u001b[K     |███████████▎                    | 348kB 10.0MB/s eta 0:00:01\r\u001b[K     |███████████▋                    | 358kB 10.0MB/s eta 0:00:01\r\u001b[K     |████████████                    | 368kB 10.0MB/s eta 0:00:01\r\u001b[K     |████████████▎                   | 378kB 10.0MB/s eta 0:00:01\r\u001b[K     |████████████▋                   | 389kB 10.0MB/s eta 0:00:01\r\u001b[K     |█████████████                   | 399kB 10.0MB/s eta 0:00:01\r\u001b[K     |█████████████▎                  | 409kB 10.0MB/s eta 0:00:01\r\u001b[K     |█████████████▋                  | 419kB 10.0MB/s eta 0:00:01\r\u001b[K     |██████████████                  | 430kB 10.0MB/s eta 0:00:01\r\u001b[K     |██████████████▎                 | 440kB 10.0MB/s eta 0:00:01\r\u001b[K     |██████████████▋                 | 450kB 10.0MB/s eta 0:00:01\r\u001b[K     |███████████████                 | 460kB 10.0MB/s eta 0:00:01\r\u001b[K     |███████████████▎                | 471kB 10.0MB/s eta 0:00:01\r\u001b[K     |███████████████▋                | 481kB 10.0MB/s eta 0:00:01\r\u001b[K     |████████████████                | 491kB 10.0MB/s eta 0:00:01\r\u001b[K     |████████████████▎               | 501kB 10.0MB/s eta 0:00:01\r\u001b[K     |████████████████▋               | 512kB 10.0MB/s eta 0:00:01\r\u001b[K     |█████████████████               | 522kB 10.0MB/s eta 0:00:01\r\u001b[K     |█████████████████▎              | 532kB 10.0MB/s eta 0:00:01\r\u001b[K     |█████████████████▋              | 542kB 10.0MB/s eta 0:00:01\r\u001b[K     |██████████████████              | 552kB 10.0MB/s eta 0:00:01\r\u001b[K     |██████████████████▎             | 563kB 10.0MB/s eta 0:00:01\r\u001b[K     |██████████████████▋             | 573kB 10.0MB/s eta 0:00:01\r\u001b[K     |███████████████████             | 583kB 10.0MB/s eta 0:00:01\r\u001b[K     |███████████████████▎            | 593kB 10.0MB/s eta 0:00:01\r\u001b[K     |███████████████████▋            | 604kB 10.0MB/s eta 0:00:01\r\u001b[K     |████████████████████            | 614kB 10.0MB/s eta 0:00:01\r\u001b[K     |████████████████████▎           | 624kB 10.0MB/s eta 0:00:01\r\u001b[K     |████████████████████▋           | 634kB 10.0MB/s eta 0:00:01\r\u001b[K     |█████████████████████           | 645kB 10.0MB/s eta 0:00:01\r\u001b[K     |█████████████████████▎          | 655kB 10.0MB/s eta 0:00:01\r\u001b[K     |█████████████████████▋          | 665kB 10.0MB/s eta 0:00:01\r\u001b[K     |██████████████████████          | 675kB 10.0MB/s eta 0:00:01\r\u001b[K     |██████████████████████▎         | 686kB 10.0MB/s eta 0:00:01\r\u001b[K     |██████████████████████▋         | 696kB 10.0MB/s eta 0:00:01\r\u001b[K     |███████████████████████         | 706kB 10.0MB/s eta 0:00:01\r\u001b[K     |███████████████████████▎        | 716kB 10.0MB/s eta 0:00:01\r\u001b[K     |███████████████████████▋        | 727kB 10.0MB/s eta 0:00:01\r\u001b[K     |████████████████████████        | 737kB 10.0MB/s eta 0:00:01\r\u001b[K     |████████████████████████▎       | 747kB 10.0MB/s eta 0:00:01\r\u001b[K     |████████████████████████▋       | 757kB 10.0MB/s eta 0:00:01\r\u001b[K     |████████████████████████▉       | 768kB 10.0MB/s eta 0:00:01\r\u001b[K     |█████████████████████████▏      | 778kB 10.0MB/s eta 0:00:01\r\u001b[K     |█████████████████████████▌      | 788kB 10.0MB/s eta 0:00:01\r\u001b[K     |█████████████████████████▉      | 798kB 10.0MB/s eta 0:00:01\r\u001b[K     |██████████████████████████▏     | 808kB 10.0MB/s eta 0:00:01\r\u001b[K     |██████████████████████████▌     | 819kB 10.0MB/s eta 0:00:01\r\u001b[K     |██████████████████████████▉     | 829kB 10.0MB/s eta 0:00:01\r\u001b[K     |███████████████████████████▏    | 839kB 10.0MB/s eta 0:00:01\r\u001b[K     |███████████████████████████▌    | 849kB 10.0MB/s eta 0:00:01\r\u001b[K     |███████████████████████████▉    | 860kB 10.0MB/s eta 0:00:01\r\u001b[K     |████████████████████████████▏   | 870kB 10.0MB/s eta 0:00:01\r\u001b[K     |████████████████████████████▌   | 880kB 10.0MB/s eta 0:00:01\r\u001b[K     |████████████████████████████▉   | 890kB 10.0MB/s eta 0:00:01\r\u001b[K     |█████████████████████████████▏  | 901kB 10.0MB/s eta 0:00:01\r\u001b[K     |█████████████████████████████▌  | 911kB 10.0MB/s eta 0:00:01\r\u001b[K     |█████████████████████████████▉  | 921kB 10.0MB/s eta 0:00:01\r\u001b[K     |██████████████████████████████▏ | 931kB 10.0MB/s eta 0:00:01\r\u001b[K     |██████████████████████████████▌ | 942kB 10.0MB/s eta 0:00:01\r\u001b[K     |██████████████████████████████▉ | 952kB 10.0MB/s eta 0:00:01\r\u001b[K     |███████████████████████████████▏| 962kB 10.0MB/s eta 0:00:01\r\u001b[K     |███████████████████████████████▌| 972kB 10.0MB/s eta 0:00:01\r\u001b[K     |███████████████████████████████▉| 983kB 10.0MB/s eta 0:00:01\r\u001b[K     |████████████████████████████████| 993kB 10.0MB/s \n",
            "\u001b[?25h  Building wheel for PyDrive (setup.py) ... \u001b[?25l\u001b[?25hdone\n"
          ],
          "name": "stdout"
        }
      ]
    },
    {
      "cell_type": "code",
      "metadata": {
        "id": "o-wuc-4WqCQ0",
        "colab_type": "code",
        "colab": {}
      },
      "source": [
        "from pydrive.auth import GoogleAuth\n",
        "from pydrive.drive import GoogleDrive\n",
        "from google.colab import auth\n",
        "from oauth2client.client import GoogleCredentials\n"
      ],
      "execution_count": 0,
      "outputs": []
    },
    {
      "cell_type": "code",
      "metadata": {
        "id": "HgYatkrqp9dF",
        "colab_type": "code",
        "colab": {}
      },
      "source": [
        "auth.authenticate_user()\n",
        "gauth = GoogleAuth()\n",
        "gauth.credentials = GoogleCredentials.get_application_default()\n",
        "drive = GoogleDrive(gauth)"
      ],
      "execution_count": 0,
      "outputs": []
    },
    {
      "cell_type": "code",
      "metadata": {
        "id": "kmZfdhcuqOO9",
        "colab_type": "code",
        "colab": {}
      },
      "source": [
        "t = drive.CreateFile({'id':'0B0Fef71_vt3PUkZ4YVZ5WWNvZWs'})\n",
        "t.GetContentFile('dataset.tar.gz')"
      ],
      "execution_count": 0,
      "outputs": []
    },
    {
      "cell_type": "code",
      "metadata": {
        "id": "2vB5aJfbqqih",
        "colab_type": "code",
        "outputId": "38a3a9d3-6c88-4e03-e97c-776fc58fbcde",
        "colab": {
          "base_uri": "https://localhost:8080/",
          "height": 84
        }
      },
      "source": [
        "!tar -xvzf dataset.tar.gz"
      ],
      "execution_count": 0,
      "outputs": [
        {
          "output_type": "stream",
          "text": [
            "sat-4-full.mat\n",
            "sat-6-full.mat\n",
            "./._readme.txt\n",
            "readme.txt\n"
          ],
          "name": "stdout"
        }
      ]
    },
    {
      "cell_type": "code",
      "metadata": {
        "id": "6XyFEKYQAnQf",
        "colab_type": "code",
        "outputId": "625cc556-28c2-4791-c7dd-d4e9b72bf469",
        "colab": {
          "base_uri": "https://localhost:8080/",
          "height": 34
        }
      },
      "source": [
        "cd /content/gdrive/My Drive/Colab\\ Notebooks/gnr652/data/"
      ],
      "execution_count": 0,
      "outputs": [
        {
          "output_type": "stream",
          "text": [
            "/content/gdrive/My Drive/Colab Notebooks/gnr652/data\n"
          ],
          "name": "stdout"
        }
      ]
    },
    {
      "cell_type": "code",
      "metadata": {
        "id": "umLfILUOAocp",
        "colab_type": "code",
        "outputId": "1816b063-f05f-4ce0-81eb-d9bd378a4b86",
        "colab": {
          "base_uri": "https://localhost:8080/",
          "height": 34
        }
      },
      "source": [
        "ls"
      ],
      "execution_count": 0,
      "outputs": [
        {
          "output_type": "stream",
          "text": [
            "sat-4-full.mat  sat-6-full.mat\n"
          ],
          "name": "stdout"
        }
      ]
    },
    {
      "cell_type": "code",
      "metadata": {
        "id": "HNdC3LLOLhf9",
        "colab_type": "code",
        "colab": {}
      },
      "source": [
        "import scipy.io as sio\n",
        "\n",
        "IMAGES_DATA_PATH = 'sat-6-full.mat'\n",
        "\n",
        "def load_image_data(images_data_path=IMAGES_DATA_PATH):\n",
        "    print(\"##########    Loading Data    ##########\")    \n",
        "    test = sio.loadmat(images_data_path)\n",
        "    print(test)\n",
        "    print(\"##########    Data type    ###########\")\n",
        "    print(type(test))\n",
        "    print(test.values())\n",
        "    return test\n",
        "\n",
        " "
      ],
      "execution_count": 0,
      "outputs": []
    },
    {
      "cell_type": "code",
      "metadata": {
        "id": "kSEAyP5xArx9",
        "colab_type": "code",
        "outputId": "1760641d-8b26-4333-a006-269afbad3dd1",
        "colab": {
          "base_uri": "https://localhost:8080/",
          "height": 34
        }
      },
      "source": [
        "import keras_metrics"
      ],
      "execution_count": 0,
      "outputs": [
        {
          "output_type": "stream",
          "text": [
            "Using TensorFlow backend.\n"
          ],
          "name": "stderr"
        }
      ]
    },
    {
      "cell_type": "code",
      "metadata": {
        "id": "iHfmuzclb7Se",
        "colab_type": "code",
        "outputId": "dc52094e-dfbe-4d15-98b3-f57b42ed8580",
        "colab": {
          "base_uri": "https://localhost:8080/",
          "height": 1454
        }
      },
      "source": [
        "#checkout the data\n",
        "from keras.utils import to_categorical\n",
        "from keras import optimizers\n",
        "\n",
        "#models\n",
        "from keras.models import Sequential\n",
        "from keras.layers import Dense, Conv2D, MaxPooling2D, Dropout, Flatten\n",
        "\n",
        "#helper\n",
        "import numpy as np\n",
        "import matplotlib.pyplot as plt\n",
        "import tensorflow as tf\n",
        "\n",
        "\n",
        " \n",
        "\n",
        "###############################################################################\n",
        "#load the data\n",
        "import scipy.io\n",
        "data = scipy.io.loadmat(\"sat-6-full.mat\")\n",
        "train_images = data['train_x']\n",
        "train_labels = data['train_y']\n",
        "\n",
        "test_images = data['test_x']\n",
        "test_labels = data['test_y']\n",
        "\n",
        "####################################################################\n",
        "#Checkout the data\n",
        "print('Training data shape : ', train_images.shape, train_labels.shape)\n",
        "print('Testing data shape : ', test_images.shape, test_labels.shape)\n",
        "\n",
        "#Change the dimension to fit into the model\n",
        "x_train = train_images.transpose(3,0,1,2)\n",
        "t_train = train_labels.transpose()\n",
        "\n",
        "x_test = test_images.transpose(3,0,1,2)\n",
        "t_test = test_labels.transpose()\n",
        "\n",
        "print('Training data shape : ', x_train.shape, t_train.shape)\n",
        "print('Testing data shape : ', x_test.shape, t_test.shape)\n",
        "\n",
        "\n",
        "#Find the unique numbers from the train labels\n",
        "nClasses = 6\n",
        " \n",
        "#Display the change for category label using one-hot encoding\n",
        "print('Original label 0 : ', t_train[0])\n",
        "print('After conversion to categorical ( one-hot ) : ', t_train[0])\n",
        "\n",
        "\n",
        "##################################################################\n",
        "#preprocess\n",
        "#x_train = x_train.astype('float32')\n",
        "#x_test = x_test.astype('float32')\n",
        "#x_train /= 255\n",
        "#x_test /= 255\n",
        "#memory error may be because entire data set could not fit into RAM\n",
        "\n",
        "#preprocess\n",
        "for t in x_train:\n",
        "    t = t.astype('float32')\n",
        "    t /= 255\n",
        "for t in x_test:\n",
        "    t = t.astype('float32')\n",
        "    t /= 255\n",
        "    \n",
        "###########################################################################################3\n",
        "def createModel():\n",
        "    model = Sequential()\n",
        "    model.add(Conv2D(28, (3, 3), padding='same', activation='relu', input_shape=(28 , 28 , 4)))\n",
        "    model.add(Conv2D(28, (3, 3), activation='relu'))\n",
        "    model.add(MaxPooling2D(pool_size=(2, 2)))\n",
        "    model.add(Dropout(0.25))\n",
        " \n",
        "    model.add(Conv2D(56, (3, 3), padding='same', activation='relu'))\n",
        "    model.add(Conv2D(56, (3, 3), activation='relu'))\n",
        "    model.add(MaxPooling2D(pool_size=(2, 2)))\n",
        "    model.add(Dropout(0.25))\n",
        " \n",
        "    model.add(Conv2D(56, (3, 3), padding='same', activation='relu'))\n",
        "    model.add(Conv2D(56, (3, 3), activation='relu'))\n",
        "    model.add(MaxPooling2D(pool_size=(2, 2)))\n",
        "    model.add(Dropout(0.25))\n",
        " \n",
        "    model.add(Flatten())\n",
        "    model.add(Dense(512, activation='relu'))\n",
        "    model.add(Dropout(0.5))\n",
        "    model.add(Dense(nClasses, activation='softmax'))\n",
        "     \n",
        "    return model\n",
        "#################################################################################\n",
        "#serialize model to JSON\n",
        "def SerializeToJSON(model,model_path):\n",
        "    model_json = model.to_json()\n",
        "    model_json_file_name = input(\"Enter json filename to save :\")\n",
        "    model_json_file_path = model_path + model_json_file_name\n",
        "    print(model_json_file_path)\n",
        "    with open(model_json_file_path, \"w\") as json_file:\n",
        "        json_file.write(model_json)\n",
        "\n",
        "    #serialize weights to HDF5\n",
        "    model_weight_json_file_name = input(\"Enter json weight filename to save :\")\n",
        "    model_json_weight_file_path = model_path + model_weight_json_file_name\n",
        "    model.save_weights(model_json_weight_file_path)\n",
        "    print(\"Saved model json to the disk\")\n",
        "\n",
        "#Training the network\n",
        "model1 = createModel()\n",
        "\n",
        "batch_size = 256\n",
        "epochs = 10\n",
        "rms = optimizers.RMSprop(lr=0.0001, rho=0.9, epsilon=None, decay=0.0)\n",
        "model1.compile(optimizer=rms, loss='categorical_crossentropy', metrics=['accuracy', keras_metrics.precision(), keras_metrics.recall()])\n",
        " \n",
        "history = model1.fit(x_train, t_train, batch_size=batch_size, epochs=epochs, verbose=1, validation_data=(x_test, t_test))\n",
        " \n",
        "# score, accuracy = model1.evaluate(x_test, t_test)\n",
        "\n",
        "#######################################################\n",
        "#Serialize model\n",
        "# model_path = \"../../models/\"\n",
        "# SerializeToJSON(model1,model_path)\n",
        "\n",
        "#model_path = \"../models/land_classifiction_Lr0.0001_v1.yaml\"\n",
        "#SerializeToYAML(model,model_path)\n",
        "\n",
        "# Loss Curves\n",
        "plt.figure(figsize=[8,6])\n",
        "plt.plot(history.history['loss'],'r',linewidth=3.0)\n",
        "plt.plot(history.history['val_loss'],'b',linewidth=3.0)\n",
        "plt.legend(['Training loss', 'Validation Loss'],fontsize=18)\n",
        "plt.xlabel('Epochs ',fontsize=16)\n",
        "plt.ylabel('Loss',fontsize=16)\n",
        "plt.title('Loss Curves',fontsize=16)\n",
        " \n",
        "# Accuracy Curves\n",
        "plt.figure(figsize=[8,6])\n",
        "plt.plot(history.history['acc'],'r',linewidth=3.0)\n",
        "plt.plot(history.history['val_acc'],'b',linewidth=3.0)\n",
        "plt.legend(['Training Accuracy', 'Validation Accuracy'],fontsize=18)\n",
        "plt.xlabel('Epochs ',fontsize=16)\n",
        "plt.ylabel('Accuracy',fontsize=16)\n",
        "plt.title('Accuracy Curves',fontsize=16)"
      ],
      "execution_count": 0,
      "outputs": [
        {
          "output_type": "stream",
          "text": [
            "Training data shape :  (28, 28, 4, 324000) (6, 324000)\n",
            "Testing data shape :  (28, 28, 4, 81000) (6, 81000)\n",
            "Training data shape :  (324000, 28, 28, 4) (324000, 6)\n",
            "Testing data shape :  (81000, 28, 28, 4) (81000, 6)\n",
            "Original label 0 :  [0 0 1 0 0 0]\n",
            "After conversion to categorical ( one-hot ) :  [0 0 1 0 0 0]\n",
            "WARNING:tensorflow:From /usr/local/lib/python3.6/dist-packages/tensorflow/python/framework/op_def_library.py:263: colocate_with (from tensorflow.python.framework.ops) is deprecated and will be removed in a future version.\n",
            "Instructions for updating:\n",
            "Colocations handled automatically by placer.\n",
            "WARNING:tensorflow:From /usr/local/lib/python3.6/dist-packages/keras/backend/tensorflow_backend.py:3445: calling dropout (from tensorflow.python.ops.nn_ops) with keep_prob is deprecated and will be removed in a future version.\n",
            "Instructions for updating:\n",
            "Please use `rate` instead of `keep_prob`. Rate should be set to `rate = 1 - keep_prob`.\n",
            "WARNING:tensorflow:From /usr/local/lib/python3.6/dist-packages/tensorflow/python/ops/math_ops.py:3066: to_int32 (from tensorflow.python.ops.math_ops) is deprecated and will be removed in a future version.\n",
            "Instructions for updating:\n",
            "Use tf.cast instead.\n",
            "Train on 324000 samples, validate on 81000 samples\n",
            "Epoch 1/10\n",
            "324000/324000 [==============================] - 28s 86us/step - loss: 0.2650 - acc: 0.9040 - precision: 0.7518 - recall: 0.7472 - val_loss: 0.0966 - val_acc: 0.9670 - val_precision: 0.9451 - val_recall: 0.9820\n",
            "Epoch 2/10\n",
            "324000/324000 [==============================] - 25s 76us/step - loss: 0.0875 - acc: 0.9683 - precision: 0.9160 - recall: 0.9494 - val_loss: 0.0540 - val_acc: 0.9817 - val_precision: 0.9786 - val_recall: 0.9709\n",
            "Epoch 3/10\n",
            "324000/324000 [==============================] - 25s 76us/step - loss: 0.0665 - acc: 0.9765 - precision: 0.9493 - recall: 0.9694 - val_loss: 0.0480 - val_acc: 0.9848 - val_precision: 0.9868 - val_recall: 0.9873\n",
            "Epoch 4/10\n",
            "324000/324000 [==============================] - 25s 77us/step - loss: 0.0569 - acc: 0.9802 - precision: 0.9625 - recall: 0.9742 - val_loss: 0.0424 - val_acc: 0.9871 - val_precision: 0.9882 - val_recall: 0.9908\n",
            "Epoch 5/10\n",
            "324000/324000 [==============================] - 25s 78us/step - loss: 0.0505 - acc: 0.9829 - precision: 0.9708 - recall: 0.9791 - val_loss: 0.0552 - val_acc: 0.9800 - val_precision: 0.9994 - val_recall: 0.9467\n",
            "Epoch 6/10\n",
            "324000/324000 [==============================] - 25s 77us/step - loss: 0.0463 - acc: 0.9842 - precision: 0.9751 - recall: 0.9833 - val_loss: 0.0374 - val_acc: 0.9873 - val_precision: 0.9972 - val_recall: 0.9747\n",
            "Epoch 7/10\n",
            "324000/324000 [==============================] - 25s 77us/step - loss: 0.0442 - acc: 0.9851 - precision: 0.9786 - recall: 0.9827 - val_loss: 0.0861 - val_acc: 0.9721 - val_precision: 0.9950 - val_recall: 0.9666\n",
            "Epoch 8/10\n",
            "324000/324000 [==============================] - 25s 77us/step - loss: 0.0428 - acc: 0.9859 - precision: 0.9803 - recall: 0.9847 - val_loss: 0.0383 - val_acc: 0.9877 - val_precision: 0.9696 - val_recall: 0.9978\n",
            "Epoch 9/10\n",
            "324000/324000 [==============================] - 25s 76us/step - loss: 0.0421 - acc: 0.9865 - precision: 0.9791 - recall: 0.9846 - val_loss: 0.0306 - val_acc: 0.9903 - val_precision: 0.9898 - val_recall: 0.9938\n",
            "Epoch 10/10\n",
            "324000/324000 [==============================] - 25s 76us/step - loss: 0.0414 - acc: 0.9866 - precision: 0.9821 - recall: 0.9849 - val_loss: 0.0336 - val_acc: 0.9909 - val_precision: 0.9927 - val_recall: 0.9911\n"
          ],
          "name": "stdout"
        },
        {
          "output_type": "execute_result",
          "data": {
            "text/plain": [
              "Text(0.5, 1.0, 'Accuracy Curves')"
            ]
          },
          "metadata": {
            "tags": []
          },
          "execution_count": 5
        },
        {
          "output_type": "display_data",
          "data": {
            "image/png": "[encoded data removed]",
            "text/plain": [
              "<Figure size 576x432 with 1 Axes>"
            ]
          },
          "metadata": {
            "tags": []
          }
        },
        {
          "output_type": "display_data",
          "data": {
            "image/png": "[encoded data removed]",
            "text/plain": [
              "<Figure size 576x432 with 1 Axes>"
            ]
          },
          "metadata": {
            "tags": []
          }
        }
      ]
    },
    {
      "cell_type": "code",
      "metadata": {
        "id": "iLJMRTi6ZYa_",
        "colab_type": "code",
        "outputId": "2bc16410-f045-4142-cca1-d67099c2bcad",
        "colab": {
          "base_uri": "https://localhost:8080/",
          "height": 119
        }
      },
      "source": [
        "score, accuracy, precision, recall = model1.evaluate(x_test, t_test)\n",
        "print(\"Score: \", score)\n",
        "print(\"Accuracy: \", accuracy)\n",
        "print(\"Precision: \", precision)\n",
        "print(\"Recall: \", recall)\n",
        "print(\"F1: \", (2*precision*recall)/(precision+recall))"
      ],
      "execution_count": 0,
      "outputs": [
        {
          "output_type": "stream",
          "text": [
            "81000/81000 [==============================] - 8s 95us/step\n",
            "Score:  0.03361335726090302\n",
            "Accuracy:  0.9909259259259259\n",
            "Precision:  0.9927184465751695\n",
            "Recall:  0.9911147011041703\n",
            "F1:  0.9919159255997868\n"
          ],
          "name": "stdout"
        }
      ]
    },
    {
      "cell_type": "code",
      "metadata": {
        "id": "P7IT5X-3ZfGc",
        "colab_type": "code",
        "colab": {}
      },
      "source": [
        ""
      ],
      "execution_count": 0,
      "outputs": []
    }
  ]
}