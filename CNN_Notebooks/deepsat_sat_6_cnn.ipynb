{
  "nbformat": 4,
  "nbformat_minor": 0,
  "metadata": {
    "colab": {
      "name": "deepsat_sat-6_cnn.ipynb",
      "version": "0.3.2",
      "provenance": [],
      "collapsed_sections": []
    },
    "kernelspec": {
      "name": "python3",
      "display_name": "Python 3"
    },
    "accelerator": "GPU"
  },
  "cells": [
    {
      "metadata": {
        "id": "t5Gp6VZ9MLuA",
        "colab_type": "code",
        "outputId": "71e22e9e-bd09-4e30-a02a-85c9b73ff02a",
        "colab": {
          "base_uri": "https://localhost:8080/",
          "height": 50
        }
      },
      "cell_type": "code",
      "source": [
        "!pip install -U -q PyDrive"
      ],
      "execution_count": 2,
      "outputs": [
        {
          "output_type": "stream",
          "text": [
            "\u001b[?25l\r\u001b[K     |▎                               | 10kB 19.7MB/s eta 0:00:01\r\u001b[K     |▋                               | 20kB 7.5MB/s eta 0:00:01\r\u001b[K     |█                               | 30kB 10.5MB/s eta 0:00:01\r\u001b[K     |█▎                              | 40kB 6.4MB/s eta 0:00:01\r\u001b[K     |█▋                              | 51kB 7.7MB/s eta 0:00:01\r\u001b[K     |██                              | 61kB 9.1MB/s eta 0:00:01\r\u001b[K     |██▎                             | 71kB 8.3MB/s eta 0:00:01\r\u001b[K     |██▋                             | 81kB 9.1MB/s eta 0:00:01\r\u001b[K     |███                             | 92kB 10.0MB/s eta 0:00:01\r\u001b[K     |███▎                            | 102kB 10.0MB/s eta 0:00:01\r\u001b[K     |███▋                            | 112kB 10.0MB/s eta 0:00:01\r\u001b[K     |████                            | 122kB 10.0MB/s eta 0:00:01\r\u001b[K     |████▎                           | 133kB 10.0MB/s eta 0:00:01\r\u001b[K     |████▋                           | 143kB 10.0MB/s eta 0:00:01\r\u001b[K     |█████                           | 153kB 10.0MB/s eta 0:00:01\r\u001b[K     |█████▎                          | 163kB 10.0MB/s eta 0:00:01\r\u001b[K     |█████▋                          | 174kB 10.0MB/s eta 0:00:01\r\u001b[K     |██████                          | 184kB 10.0MB/s eta 0:00:01\r\u001b[K     |██████▎                         | 194kB 10.0MB/s eta 0:00:01\r\u001b[K     |██████▋                         | 204kB 10.0MB/s eta 0:00:01\r\u001b[K     |███████                         | 215kB 10.0MB/s eta 0:00:01\r\u001b[K     |███████▎                        | 225kB 10.0MB/s eta 0:00:01\r\u001b[K     |███████▋                        | 235kB 10.0MB/s eta 0:00:01\r\u001b[K     |████████                        | 245kB 10.0MB/s eta 0:00:01\r\u001b[K     |████████▎                       | 256kB 10.0MB/s eta 0:00:01\r\u001b[K     |████████▋                       | 266kB 10.0MB/s eta 0:00:01\r\u001b[K     |█████████                       | 276kB 10.0MB/s eta 0:00:01\r\u001b[K     |█████████▎                      | 286kB 10.0MB/s eta 0:00:01\r\u001b[K     |█████████▋                      | 296kB 10.0MB/s eta 0:00:01\r\u001b[K     |██████████                      | 307kB 10.0MB/s eta 0:00:01\r\u001b[K     |██████████▎                     | 317kB 10.0MB/s eta 0:00:01\r\u001b[K     |██████████▋                     | 327kB 10.0MB/s eta 0:00:01\r\u001b[K     |███████████                     | 337kB 10.0MB/s eta 0:00:01\r\u001b[K     |███████████▎                    | 348kB 10.0MB/s eta 0:00:01\r\u001b[K     |███████████▋                    | 358kB 10.0MB/s eta 0:00:01\r\u001b[K     |████████████                    | 368kB 10.0MB/s eta 0:00:01\r\u001b[K     |████████████▎                   | 378kB 10.0MB/s eta 0:00:01\r\u001b[K     |████████████▋                   | 389kB 10.0MB/s eta 0:00:01\r\u001b[K     |█████████████                   | 399kB 10.0MB/s eta 0:00:01\r\u001b[K     |█████████████▎                  | 409kB 10.0MB/s eta 0:00:01\r\u001b[K     |█████████████▋                  | 419kB 10.0MB/s eta 0:00:01\r\u001b[K     |██████████████                  | 430kB 10.0MB/s eta 0:00:01\r\u001b[K     |██████████████▎                 | 440kB 10.0MB/s eta 0:00:01\r\u001b[K     |██████████████▋                 | 450kB 10.0MB/s eta 0:00:01\r\u001b[K     |███████████████                 | 460kB 10.0MB/s eta 0:00:01\r\u001b[K     |███████████████▎                | 471kB 10.0MB/s eta 0:00:01\r\u001b[K     |███████████████▋                | 481kB 10.0MB/s eta 0:00:01\r\u001b[K     |████████████████                | 491kB 10.0MB/s eta 0:00:01\r\u001b[K     |████████████████▎               | 501kB 10.0MB/s eta 0:00:01\r\u001b[K     |████████████████▋               | 512kB 10.0MB/s eta 0:00:01\r\u001b[K     |█████████████████               | 522kB 10.0MB/s eta 0:00:01\r\u001b[K     |█████████████████▎              | 532kB 10.0MB/s eta 0:00:01\r\u001b[K     |█████████████████▋              | 542kB 10.0MB/s eta 0:00:01\r\u001b[K     |██████████████████              | 552kB 10.0MB/s eta 0:00:01\r\u001b[K     |██████████████████▎             | 563kB 10.0MB/s eta 0:00:01\r\u001b[K     |██████████████████▋             | 573kB 10.0MB/s eta 0:00:01\r\u001b[K     |███████████████████             | 583kB 10.0MB/s eta 0:00:01\r\u001b[K     |███████████████████▎            | 593kB 10.0MB/s eta 0:00:01\r\u001b[K     |███████████████████▋            | 604kB 10.0MB/s eta 0:00:01\r\u001b[K     |████████████████████            | 614kB 10.0MB/s eta 0:00:01\r\u001b[K     |████████████████████▎           | 624kB 10.0MB/s eta 0:00:01\r\u001b[K     |████████████████████▋           | 634kB 10.0MB/s eta 0:00:01\r\u001b[K     |█████████████████████           | 645kB 10.0MB/s eta 0:00:01\r\u001b[K     |█████████████████████▎          | 655kB 10.0MB/s eta 0:00:01\r\u001b[K     |█████████████████████▋          | 665kB 10.0MB/s eta 0:00:01\r\u001b[K     |██████████████████████          | 675kB 10.0MB/s eta 0:00:01\r\u001b[K     |██████████████████████▎         | 686kB 10.0MB/s eta 0:00:01\r\u001b[K     |██████████████████████▋         | 696kB 10.0MB/s eta 0:00:01\r\u001b[K     |███████████████████████         | 706kB 10.0MB/s eta 0:00:01\r\u001b[K     |███████████████████████▎        | 716kB 10.0MB/s eta 0:00:01\r\u001b[K     |███████████████████████▋        | 727kB 10.0MB/s eta 0:00:01\r\u001b[K     |████████████████████████        | 737kB 10.0MB/s eta 0:00:01\r\u001b[K     |████████████████████████▎       | 747kB 10.0MB/s eta 0:00:01\r\u001b[K     |████████████████████████▋       | 757kB 10.0MB/s eta 0:00:01\r\u001b[K     |████████████████████████▉       | 768kB 10.0MB/s eta 0:00:01\r\u001b[K     |█████████████████████████▏      | 778kB 10.0MB/s eta 0:00:01\r\u001b[K     |█████████████████████████▌      | 788kB 10.0MB/s eta 0:00:01\r\u001b[K     |█████████████████████████▉      | 798kB 10.0MB/s eta 0:00:01\r\u001b[K     |██████████████████████████▏     | 808kB 10.0MB/s eta 0:00:01\r\u001b[K     |██████████████████████████▌     | 819kB 10.0MB/s eta 0:00:01\r\u001b[K     |██████████████████████████▉     | 829kB 10.0MB/s eta 0:00:01\r\u001b[K     |███████████████████████████▏    | 839kB 10.0MB/s eta 0:00:01\r\u001b[K     |███████████████████████████▌    | 849kB 10.0MB/s eta 0:00:01\r\u001b[K     |███████████████████████████▉    | 860kB 10.0MB/s eta 0:00:01\r\u001b[K     |████████████████████████████▏   | 870kB 10.0MB/s eta 0:00:01\r\u001b[K     |████████████████████████████▌   | 880kB 10.0MB/s eta 0:00:01\r\u001b[K     |████████████████████████████▉   | 890kB 10.0MB/s eta 0:00:01\r\u001b[K     |█████████████████████████████▏  | 901kB 10.0MB/s eta 0:00:01\r\u001b[K     |█████████████████████████████▌  | 911kB 10.0MB/s eta 0:00:01\r\u001b[K     |█████████████████████████████▉  | 921kB 10.0MB/s eta 0:00:01\r\u001b[K     |██████████████████████████████▏ | 931kB 10.0MB/s eta 0:00:01\r\u001b[K     |██████████████████████████████▌ | 942kB 10.0MB/s eta 0:00:01\r\u001b[K     |██████████████████████████████▉ | 952kB 10.0MB/s eta 0:00:01\r\u001b[K     |███████████████████████████████▏| 962kB 10.0MB/s eta 0:00:01\r\u001b[K     |███████████████████████████████▌| 972kB 10.0MB/s eta 0:00:01\r\u001b[K     |███████████████████████████████▉| 983kB 10.0MB/s eta 0:00:01\r\u001b[K     |████████████████████████████████| 993kB 10.0MB/s \n",
            "\u001b[?25h  Building wheel for PyDrive (setup.py) ... \u001b[?25l\u001b[?25hdone\n"
          ],
          "name": "stdout"
        }
      ]
    },
    {
      "metadata": {
        "id": "o-wuc-4WqCQ0",
        "colab_type": "code",
        "colab": {}
      },
      "cell_type": "code",
      "source": [
        "from pydrive.auth import GoogleAuth\n",
        "from pydrive.drive import GoogleDrive\n",
        "from google.colab import auth\n",
        "from oauth2client.client import GoogleCredentials\n"
      ],
      "execution_count": 0,
      "outputs": []
    },
    {
      "metadata": {
        "id": "HgYatkrqp9dF",
        "colab_type": "code",
        "colab": {}
      },
      "cell_type": "code",
      "source": [
        "auth.authenticate_user()\n",
        "gauth = GoogleAuth()\n",
        "gauth.credentials = GoogleCredentials.get_application_default()\n",
        "drive = GoogleDrive(gauth)"
      ],
      "execution_count": 0,
      "outputs": []
    },
    {
      "metadata": {
        "id": "kmZfdhcuqOO9",
        "colab_type": "code",
        "colab": {}
      },
      "cell_type": "code",
      "source": [
        "t = drive.CreateFile({'id':'0B0Fef71_vt3PUkZ4YVZ5WWNvZWs'})\n",
        "t.GetContentFile('dataset.tar.gz')"
      ],
      "execution_count": 0,
      "outputs": []
    },
    {
      "metadata": {
        "id": "2vB5aJfbqqih",
        "colab_type": "code",
        "colab": {
          "base_uri": "https://localhost:8080/",
          "height": 84
        },
        "outputId": "38a3a9d3-6c88-4e03-e97c-776fc58fbcde"
      },
      "cell_type": "code",
      "source": [
        "!tar -xvzf dataset.tar.gz"
      ],
      "execution_count": 9,
      "outputs": [
        {
          "output_type": "stream",
          "text": [
            "sat-4-full.mat\n",
            "sat-6-full.mat\n",
            "./._readme.txt\n",
            "readme.txt\n"
          ],
          "name": "stdout"
        }
      ]
    },
    {
      "metadata": {
        "id": "HNdC3LLOLhf9",
        "colab_type": "code",
        "colab": {}
      },
      "cell_type": "code",
      "source": [
        "import scipy.io as sio\n",
        "\n",
        "IMAGES_DATA_PATH = 'sat-6-full.mat'\n",
        "\n",
        "def load_image_data(images_data_path=IMAGES_DATA_PATH):\n",
        "    print(\"##########    Loading Data    ##########\")    \n",
        "    test = sio.loadmat(images_data_path)\n",
        "    print(test)\n",
        "    print(\"##########    Data type    ###########\")\n",
        "    print(type(test))\n",
        "    print(test.values())\n",
        "    return test\n",
        "\n",
        " "
      ],
      "execution_count": 0,
      "outputs": []
    },
    {
      "metadata": {
        "id": "iHfmuzclb7Se",
        "colab_type": "code",
        "outputId": "ebc20e39-79f2-4ed2-c886-fd3d19a6fac5",
        "colab": {
          "base_uri": "https://localhost:8080/",
          "height": 1481
        }
      },
      "cell_type": "code",
      "source": [
        "#checkout the data\n",
        "from keras.utils import to_categorical\n",
        "from keras import optimizers\n",
        "\n",
        "#models\n",
        "from keras.models import Sequential\n",
        "from keras.layers import Dense, Conv2D, MaxPooling2D, Dropout, Flatten\n",
        "\n",
        "#helper\n",
        "import numpy as np\n",
        "import matplotlib.pyplot as plt\n",
        "import tensorflow as tf\n",
        "\n",
        "\n",
        " \n",
        "\n",
        "###############################################################################\n",
        "#load the data\n",
        "import scipy.io\n",
        "data = scipy.io.loadmat(\"sat-6-full.mat\")\n",
        "train_images = data['train_x']\n",
        "train_labels = data['train_y']\n",
        "\n",
        "test_images = data['test_x']\n",
        "test_labels = data['test_y']\n",
        "\n",
        "####################################################################\n",
        "#Checkout the data\n",
        "print('Training data shape : ', train_images.shape, train_labels.shape)\n",
        "print('Testing data shape : ', test_images.shape, test_labels.shape)\n",
        "\n",
        "#Change the dimension to fit into the model\n",
        "x_train = train_images.transpose(3,0,1,2)\n",
        "t_train = train_labels.transpose()\n",
        "\n",
        "x_test = test_images.transpose(3,0,1,2)\n",
        "t_test = test_labels.transpose()\n",
        "\n",
        "print('Training data shape : ', x_train.shape, t_train.shape)\n",
        "print('Testing data shape : ', x_test.shape, t_test.shape)\n",
        "\n",
        "\n",
        "#Find the unique numbers from the train labels\n",
        "nClasses = 6\n",
        " \n",
        "#Display the change for category label using one-hot encoding\n",
        "print('Original label 0 : ', t_train[0])\n",
        "print('After conversion to categorical ( one-hot ) : ', t_train[0])\n",
        "\n",
        "\n",
        "##################################################################\n",
        "#preprocess\n",
        "#x_train = x_train.astype('float32')\n",
        "#x_test = x_test.astype('float32')\n",
        "#x_train /= 255\n",
        "#x_test /= 255\n",
        "#memory error may be because entire data set could not fit into RAM\n",
        "\n",
        "#preprocess\n",
        "for t in x_train:\n",
        "    t = t.astype('float32')\n",
        "    t /= 255\n",
        "for t in x_test:\n",
        "    t = t.astype('float32')\n",
        "    t /= 255\n",
        "    \n",
        "###########################################################################################3\n",
        "def createModel():\n",
        "    model = Sequential()\n",
        "    model.add(Conv2D(28, (3, 3), padding='same', activation='relu', input_shape=(28 , 28 , 4)))\n",
        "    model.add(Conv2D(28, (3, 3), activation='relu'))\n",
        "    model.add(MaxPooling2D(pool_size=(2, 2)))\n",
        "    model.add(Dropout(0.25))\n",
        " \n",
        "    model.add(Conv2D(56, (3, 3), padding='same', activation='relu'))\n",
        "    model.add(Conv2D(56, (3, 3), activation='relu'))\n",
        "    model.add(MaxPooling2D(pool_size=(2, 2)))\n",
        "    model.add(Dropout(0.25))\n",
        " \n",
        "    model.add(Conv2D(56, (3, 3), padding='same', activation='relu'))\n",
        "    model.add(Conv2D(56, (3, 3), activation='relu'))\n",
        "    model.add(MaxPooling2D(pool_size=(2, 2)))\n",
        "    model.add(Dropout(0.25))\n",
        " \n",
        "    model.add(Flatten())\n",
        "    model.add(Dense(512, activation='relu'))\n",
        "    model.add(Dropout(0.5))\n",
        "    model.add(Dense(nClasses, activation='softmax'))\n",
        "     \n",
        "    return model\n",
        "#################################################################################\n",
        "#serialize model to JSON\n",
        "def SerializeToJSON(model,model_path):\n",
        "    model_json = model.to_json()\n",
        "    model_json_file_name = input(\"Enter json filename to save :\")\n",
        "    model_json_file_path = model_path + model_json_file_name\n",
        "    print(model_json_file_path)\n",
        "    with open(model_json_file_path, \"w\") as json_file:\n",
        "        json_file.write(model_json)\n",
        "\n",
        "    #serialize weights to HDF5\n",
        "    model_weight_json_file_name = input(\"Enter json weight filename to save :\")\n",
        "    model_json_weight_file_path = model_path + model_weight_json_file_name\n",
        "    model.save_weights(model_json_weight_file_path)\n",
        "    print(\"Saved model json to the disk\")\n",
        "\n",
        "#Training the network\n",
        "model1 = createModel()\n",
        "\n",
        "batch_size = 256\n",
        "epochs = 10\n",
        "rms = optimizers.RMSprop(lr=0.0001, rho=0.9, epsilon=None, decay=0.0)\n",
        "model1.compile(optimizer=rms, loss='categorical_crossentropy', metrics=['accuracy'])\n",
        " \n",
        "history = model1.fit(x_train, t_train, batch_size=batch_size, epochs=epochs, verbose=1, validation_data=(x_test, t_test))\n",
        " \n",
        "score, accuracy = model1.evaluate(x_test, t_test)\n",
        "\n",
        "#######################################################\n",
        "#Serialize model\n",
        "# model_path = \"../../models/\"\n",
        "# SerializeToJSON(model1,model_path)\n",
        "\n",
        "#model_path = \"../models/land_classifiction_Lr0.0001_v1.yaml\"\n",
        "#SerializeToYAML(model,model_path)\n",
        "\n",
        "# Loss Curves\n",
        "plt.figure(figsize=[8,6])\n",
        "plt.plot(history.history['loss'],'r',linewidth=3.0)\n",
        "plt.plot(history.history['val_loss'],'b',linewidth=3.0)\n",
        "plt.legend(['Training loss', 'Validation Loss'],fontsize=18)\n",
        "plt.xlabel('Epochs ',fontsize=16)\n",
        "plt.ylabel('Loss',fontsize=16)\n",
        "plt.title('Loss Curves',fontsize=16)\n",
        " \n",
        "# Accuracy Curves\n",
        "plt.figure(figsize=[8,6])\n",
        "plt.plot(history.history['acc'],'r',linewidth=3.0)\n",
        "plt.plot(history.history['val_acc'],'b',linewidth=3.0)\n",
        "plt.legend(['Training Accuracy', 'Validation Accuracy'],fontsize=18)\n",
        "plt.xlabel('Epochs ',fontsize=16)\n",
        "plt.ylabel('Accuracy',fontsize=16)\n",
        "plt.title('Accuracy Curves',fontsize=16)"
      ],
      "execution_count": 11,
      "outputs": [
        {
          "output_type": "stream",
          "text": [
            "Using TensorFlow backend.\n"
          ],
          "name": "stderr"
        },
        {
          "output_type": "stream",
          "text": [
            "Training data shape :  (28, 28, 4, 324000) (6, 324000)\n",
            "Testing data shape :  (28, 28, 4, 81000) (6, 81000)\n",
            "Training data shape :  (324000, 28, 28, 4) (324000, 6)\n",
            "Testing data shape :  (81000, 28, 28, 4) (81000, 6)\n",
            "Original label 0 :  [0 0 1 0 0 0]\n",
            "After conversion to categorical ( one-hot ) :  [0 0 1 0 0 0]\n",
            "WARNING:tensorflow:From /usr/local/lib/python3.6/dist-packages/tensorflow/python/framework/op_def_library.py:263: colocate_with (from tensorflow.python.framework.ops) is deprecated and will be removed in a future version.\n",
            "Instructions for updating:\n",
            "Colocations handled automatically by placer.\n",
            "WARNING:tensorflow:From /usr/local/lib/python3.6/dist-packages/keras/backend/tensorflow_backend.py:3445: calling dropout (from tensorflow.python.ops.nn_ops) with keep_prob is deprecated and will be removed in a future version.\n",
            "Instructions for updating:\n",
            "Please use `rate` instead of `keep_prob`. Rate should be set to `rate = 1 - keep_prob`.\n",
            "WARNING:tensorflow:From /usr/local/lib/python3.6/dist-packages/tensorflow/python/ops/math_ops.py:3066: to_int32 (from tensorflow.python.ops.math_ops) is deprecated and will be removed in a future version.\n",
            "Instructions for updating:\n",
            "Use tf.cast instead.\n",
            "Train on 324000 samples, validate on 81000 samples\n",
            "Epoch 1/10\n",
            "324000/324000 [==============================] - 66s 203us/step - loss: 0.3195 - acc: 0.8836 - val_loss: 0.1157 - val_acc: 0.9570\n",
            "Epoch 2/10\n",
            "324000/324000 [==============================] - 50s 154us/step - loss: 0.1075 - acc: 0.9587 - val_loss: 0.1733 - val_acc: 0.9355\n",
            "Epoch 3/10\n",
            "324000/324000 [==============================] - 50s 153us/step - loss: 0.0760 - acc: 0.9728 - val_loss: 0.0613 - val_acc: 0.9790\n",
            "Epoch 4/10\n",
            "324000/324000 [==============================] - 48s 148us/step - loss: 0.0603 - acc: 0.9785 - val_loss: 0.0468 - val_acc: 0.9834\n",
            "Epoch 5/10\n",
            "324000/324000 [==============================] - 64s 198us/step - loss: 0.0532 - acc: 0.9812 - val_loss: 0.0477 - val_acc: 0.9829\n",
            "Epoch 6/10\n",
            "324000/324000 [==============================] - 64s 199us/step - loss: 0.0489 - acc: 0.9830 - val_loss: 0.0380 - val_acc: 0.9870\n",
            "Epoch 7/10\n",
            "324000/324000 [==============================] - 64s 198us/step - loss: 0.0443 - acc: 0.9849 - val_loss: 0.0455 - val_acc: 0.9833\n",
            "Epoch 8/10\n",
            "324000/324000 [==============================] - 65s 201us/step - loss: 0.0424 - acc: 0.9855 - val_loss: 0.0421 - val_acc: 0.9844\n",
            "Epoch 9/10\n",
            "324000/324000 [==============================] - 64s 198us/step - loss: 0.0419 - acc: 0.9860 - val_loss: 0.0416 - val_acc: 0.9841\n",
            "Epoch 10/10\n",
            "324000/324000 [==============================] - 64s 197us/step - loss: 0.0413 - acc: 0.9866 - val_loss: 0.0563 - val_acc: 0.9805\n",
            "81000/81000 [==============================] - 6s 75us/step\n"
          ],
          "name": "stdout"
        },
        {
          "output_type": "execute_result",
          "data": {
            "text/plain": [
              "Text(0.5, 1.0, 'Accuracy Curves')"
            ]
          },
          "metadata": {
            "tags": []
          },
          "execution_count": 11
        },
        {
          "output_type": "display_data",
          "data": {
            "image/png": "[encoded data removed]",
            "text/plain": [
              "<Figure size 576x432 with 1 Axes>"
            ]
          },
          "metadata": {
            "tags": []
          }
        },
        {
          "output_type": "display_data",
          "data": {
            "image/png": "[encoded data removed]",
            "text/plain": [
              "<Figure size 576x432 with 1 Axes>"
            ]
          },
          "metadata": {
            "tags": []
          }
        }
      ]
    },
    {
      "metadata": {
        "id": "iLJMRTi6ZYa_",
        "colab_type": "code",
        "outputId": "02a12038-bf2b-4101-cdef-8add0ad1b6af",
        "colab": {
          "base_uri": "https://localhost:8080/",
          "height": 67
        }
      },
      "cell_type": "code",
      "source": [
        "score, accuracy = model1.evaluate(x_test, t_test)\n",
        "print(\"Score: \", score)\n",
        "print(\"Accuracy: \", accuracy)"
      ],
      "execution_count": 12,
      "outputs": [
        {
          "output_type": "stream",
          "text": [
            "81000/81000 [==============================] - 7s 84us/step\n",
            "Score:  0.056343959150755386\n",
            "Accuracy:  0.9805432098765432\n"
          ],
          "name": "stdout"
        }
      ]
    },
    {
      "metadata": {
        "id": "P7IT5X-3ZfGc",
        "colab_type": "code",
        "colab": {}
      },
      "cell_type": "code",
      "source": [
        ""
      ],
      "execution_count": 0,
      "outputs": []
    }
  ]
}