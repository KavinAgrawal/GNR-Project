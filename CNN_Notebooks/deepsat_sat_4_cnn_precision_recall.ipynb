{
  "nbformat": 4,
  "nbformat_minor": 0,
  "metadata": {
    "colab": {
      "name": "deepsat_sat-4_cnn.ipynb",
      "version": "0.3.2",
      "provenance": [],
      "collapsed_sections": []
    },
    "kernelspec": {
      "name": "python3",
      "display_name": "Python 3"
    },
    "accelerator": "GPU"
  },
  "cells": [
    {
      "cell_type": "code",
      "metadata": {
        "id": "q7SfmD4TMOIm",
        "colab_type": "code",
        "outputId": "1a9b2e9d-99c1-46d5-aa67-df9d9e027ef5",
        "colab": {
          "base_uri": "https://localhost:8080/",
          "height": 34
        }
      },
      "source": [
        "from google.colab import drive\n",
        "drive.mount('/content/gdrive') "
      ],
      "execution_count": 0,
      "outputs": [
        {
          "output_type": "stream",
          "text": [
            "Drive already mounted at /content/gdrive; to attempt to forcibly remount, call drive.mount(\"/content/gdrive\", force_remount=True).\n"
          ],
          "name": "stdout"
        }
      ]
    },
    {
      "cell_type": "code",
      "metadata": {
        "id": "59wQVwNNMWlB",
        "colab_type": "code",
        "outputId": "921bed97-eb9b-45d2-9963-6d0d4c2305aa",
        "colab": {
          "base_uri": "https://localhost:8080/",
          "height": 34
        }
      },
      "source": [
        "cd /content/gdrive/My Drive/Colab\\ Notebooks/gnr652/data/"
      ],
      "execution_count": 0,
      "outputs": [
        {
          "output_type": "stream",
          "text": [
            "/content/gdrive/My Drive/Colab Notebooks/gnr652/data\n"
          ],
          "name": "stdout"
        }
      ]
    },
    {
      "cell_type": "code",
      "metadata": {
        "id": "J29rvSs3nRol",
        "colab_type": "code",
        "outputId": "11591735-d65a-40c9-f8e8-517bf711ac02",
        "colab": {
          "base_uri": "https://localhost:8080/",
          "height": 34
        }
      },
      "source": [
        "ls"
      ],
      "execution_count": 0,
      "outputs": [
        {
          "output_type": "stream",
          "text": [
            "sat-4-full.mat  sat-6-full.mat\n"
          ],
          "name": "stdout"
        }
      ]
    },
    {
      "cell_type": "code",
      "metadata": {
        "id": "HNdC3LLOLhf9",
        "colab_type": "code",
        "colab": {}
      },
      "source": [
        "import scipy.io as sio\n",
        "\n",
        "IMAGES_DATA_PATH = 'sat-4-full.mat'\n",
        "\n",
        "def load_image_data(images_data_path=IMAGES_DATA_PATH):\n",
        "    print(\"##########    Loading Data    ##########\")    \n",
        "    test = sio.loadmat(images_data_path)\n",
        "    print(test)\n",
        "    print(\"##########    Data type    ###########\")\n",
        "    print(type(test))\n",
        "    print(test.values())\n",
        "    return test\n",
        "\n",
        " "
      ],
      "execution_count": 0,
      "outputs": []
    },
    {
      "cell_type": "code",
      "metadata": {
        "id": "E34ea4_g1k_y",
        "colab_type": "code",
        "outputId": "1d11648e-7a14-443b-e32e-d906be81337d",
        "colab": {
          "base_uri": "https://localhost:8080/",
          "height": 34
        }
      },
      "source": [
        "#checkout the data\n",
        "from keras.utils import to_categorical\n",
        "from keras import optimizers\n",
        "\n",
        "#models\n",
        "from keras.models import Sequential\n",
        "from keras.layers import Dense, Conv2D, MaxPooling2D, Dropout, Flatten\n",
        "\n",
        "#helper\n",
        "import numpy as np\n",
        "import matplotlib.pyplot as plt\n",
        "import tensorflow as tf\n"
      ],
      "execution_count": 0,
      "outputs": [
        {
          "output_type": "stream",
          "text": [
            "Using TensorFlow backend.\n"
          ],
          "name": "stderr"
        }
      ]
    },
    {
      "cell_type": "code",
      "metadata": {
        "id": "6yap-BFfnfvV",
        "colab_type": "code",
        "outputId": "292a1351-cb0d-45a5-b892-966790bb5252",
        "colab": {
          "base_uri": "https://localhost:8080/",
          "height": 119
        }
      },
      "source": [
        "###############################################################################\n",
        "#load the data\n",
        "import scipy.io\n",
        "data = scipy.io.loadmat(\"sat-4-full.mat\")\n",
        "train_images = data['train_x']\n",
        "train_labels = data['train_y']\n",
        "\n",
        "test_images = data['test_x']\n",
        "test_labels = data['test_y']\n",
        "\n",
        "####################################################################\n",
        "#Checkout the data\n",
        "print('Training data shape : ', train_images.shape, train_labels.shape)\n",
        "print('Testing data shape : ', test_images.shape, test_labels.shape)\n",
        "\n",
        "#Change the dimension to fit into the model\n",
        "x_train = train_images.transpose(3,0,1,2)\n",
        "t_train = train_labels.transpose()\n",
        "\n",
        "x_test = test_images.transpose(3,0,1,2)\n",
        "t_test = test_labels.transpose()\n",
        "\n",
        "print('Training data shape : ', x_train.shape, t_train.shape)\n",
        "print('Testing data shape : ', x_test.shape, t_test.shape)\n",
        "\n",
        "\n",
        "#Find the unique numbers from the train labels\n",
        "nClasses = 4\n",
        " \n",
        "#Display the change for category label using one-hot encoding\n",
        "print('Original label 0 : ', t_train[0])\n",
        "print('After conversion to categorical ( one-hot ) : ', t_train[0])\n",
        "\n",
        "#preprocess\n",
        "for t in x_train:\n",
        "    t = t.astype('float32')\n",
        "    t /= 255\n",
        "for t in x_test:\n",
        "    t = t.astype('float32')\n",
        "    t /= 255"
      ],
      "execution_count": 0,
      "outputs": [
        {
          "output_type": "stream",
          "text": [
            "Training data shape :  (28, 28, 4, 400000) (4, 400000)\n",
            "Testing data shape :  (28, 28, 4, 100000) (4, 100000)\n",
            "Training data shape :  (400000, 28, 28, 4) (400000, 4)\n",
            "Testing data shape :  (100000, 28, 28, 4) (100000, 4)\n",
            "Original label 0 :  [0 0 0 1]\n",
            "After conversion to categorical ( one-hot ) :  [0 0 0 1]\n"
          ],
          "name": "stdout"
        }
      ]
    },
    {
      "cell_type": "code",
      "metadata": {
        "id": "vhZSIdJMqrtu",
        "colab_type": "code",
        "colab": {}
      },
      "source": [
        "def createModel():\n",
        "    model = Sequential()\n",
        "    model.add(Conv2D(28, (3, 3), padding='same', activation='relu', input_shape=(28 , 28 , 4)))\n",
        "    model.add(Conv2D(28, (3, 3), activation='relu'))\n",
        "    model.add(MaxPooling2D(pool_size=(2, 2)))\n",
        "    model.add(Dropout(0.25))\n",
        " \n",
        "    model.add(Conv2D(56, (3, 3), padding='same', activation='relu'))\n",
        "    model.add(Conv2D(56, (3, 3), activation='relu'))\n",
        "    model.add(MaxPooling2D(pool_size=(2, 2)))\n",
        "    model.add(Dropout(0.25))\n",
        " \n",
        "    model.add(Conv2D(56, (3, 3), padding='same', activation='relu'))\n",
        "    model.add(Conv2D(56, (3, 3), activation='relu'))\n",
        "    model.add(MaxPooling2D(pool_size=(2, 2)))\n",
        "    model.add(Dropout(0.25))\n",
        " \n",
        "    model.add(Flatten())\n",
        "    model.add(Dense(512, activation='relu'))\n",
        "    model.add(Dropout(0.5))\n",
        "    model.add(Dense(nClasses, activation='softmax'))\n",
        "     \n",
        "    return model"
      ],
      "execution_count": 0,
      "outputs": []
    },
    {
      "cell_type": "code",
      "metadata": {
        "id": "YQ2ocKXU3k9O",
        "colab_type": "code",
        "outputId": "e39c35db-4bc7-4f99-924f-f4d8bf24af58",
        "colab": {
          "base_uri": "https://localhost:8080/",
          "height": 221
        }
      },
      "source": [
        "!pip install keras_metrics"
      ],
      "execution_count": 0,
      "outputs": [
        {
          "output_type": "stream",
          "text": [
            "Collecting keras_metrics\n",
            "  Downloading https://files.pythonhosted.org/packages/32/c9/a87420da8e73de944e63a8e9cdcfb1f03ca31a7c4cdcdbd45d2cdf13275a/keras_metrics-1.1.0-py2.py3-none-any.whl\n",
            "Requirement already satisfied: Keras>=2.1.5 in /usr/local/lib/python3.6/dist-packages (from keras_metrics) (2.2.4)\n",
            "Requirement already satisfied: six>=1.9.0 in /usr/local/lib/python3.6/dist-packages (from Keras>=2.1.5->keras_metrics) (1.12.0)\n",
            "Requirement already satisfied: pyyaml in /usr/local/lib/python3.6/dist-packages (from Keras>=2.1.5->keras_metrics) (3.13)\n",
            "Requirement already satisfied: keras-preprocessing>=1.0.5 in /usr/local/lib/python3.6/dist-packages (from Keras>=2.1.5->keras_metrics) (1.0.9)\n",
            "Requirement already satisfied: numpy>=1.9.1 in /usr/local/lib/python3.6/dist-packages (from Keras>=2.1.5->keras_metrics) (1.16.3)\n",
            "Requirement already satisfied: scipy>=0.14 in /usr/local/lib/python3.6/dist-packages (from Keras>=2.1.5->keras_metrics) (1.2.1)\n",
            "Requirement already satisfied: h5py in /usr/local/lib/python3.6/dist-packages (from Keras>=2.1.5->keras_metrics) (2.8.0)\n",
            "Requirement already satisfied: keras-applications>=1.0.6 in /usr/local/lib/python3.6/dist-packages (from Keras>=2.1.5->keras_metrics) (1.0.7)\n",
            "Installing collected packages: keras-metrics\n",
            "Successfully installed keras-metrics-1.1.0\n"
          ],
          "name": "stdout"
        }
      ]
    },
    {
      "cell_type": "code",
      "metadata": {
        "id": "Q8DX2ilB3wnB",
        "colab_type": "code",
        "colab": {}
      },
      "source": [
        "import keras_metrics"
      ],
      "execution_count": 0,
      "outputs": []
    },
    {
      "cell_type": "code",
      "metadata": {
        "id": "aarncbSRrB0l",
        "colab_type": "code",
        "outputId": "33bc1b2a-4aaa-4ebd-f8b9-7983241589fe",
        "colab": {
          "base_uri": "https://localhost:8080/",
          "height": 394
        }
      },
      "source": [
        "\n",
        "#Training the network\n",
        "model1 = createModel()\n",
        "\n",
        "batch_size = 256\n",
        "epochs = 10\n",
        "rms = optimizers.RMSprop(lr=0.0001, rho=0.9, epsilon=None, decay=0.0)\n",
        "model1.compile(optimizer=rms, loss='categorical_crossentropy', metrics=['accuracy',keras_metrics.precision(), keras_metrics.recall()])\n",
        " \n",
        "history = model1.fit(x_train, t_train, batch_size=batch_size, epochs=epochs, verbose=1, validation_data=(x_test, t_test))"
      ],
      "execution_count": 0,
      "outputs": [
        {
          "output_type": "stream",
          "text": [
            "Train on 400000 samples, validate on 100000 samples\n",
            "Epoch 1/10\n",
            "400000/400000 [==============================] - 32s 81us/step - loss: 0.3681 - acc: 0.8691 - precision: 0.9056 - recall: 0.9028 - val_loss: 0.1717 - val_acc: 0.9367 - val_precision: 0.9876 - val_recall: 0.8393\n",
            "Epoch 2/10\n",
            "400000/400000 [==============================] - 32s 80us/step - loss: 0.1232 - acc: 0.9575 - precision: 0.9517 - recall: 0.9482 - val_loss: 0.0877 - val_acc: 0.9699 - val_precision: 0.9920 - val_recall: 0.9161\n",
            "Epoch 3/10\n",
            "400000/400000 [==============================] - 31s 78us/step - loss: 0.0843 - acc: 0.9714 - precision: 0.9657 - recall: 0.9587 - val_loss: 0.0638 - val_acc: 0.9806 - val_precision: 0.9813 - val_recall: 0.9616\n",
            "Epoch 4/10\n",
            "400000/400000 [==============================] - 32s 80us/step - loss: 0.0680 - acc: 0.9771 - precision: 0.9728 - recall: 0.9635 - val_loss: 0.0686 - val_acc: 0.9767 - val_precision: 0.9914 - val_recall: 0.9510\n",
            "Epoch 5/10\n",
            "400000/400000 [==============================] - 31s 79us/step - loss: 0.0594 - acc: 0.9803 - precision: 0.9773 - recall: 0.9657 - val_loss: 0.0585 - val_acc: 0.9800 - val_precision: 0.9915 - val_recall: 0.9470\n",
            "Epoch 6/10\n",
            "400000/400000 [==============================] - 31s 78us/step - loss: 0.0542 - acc: 0.9824 - precision: 0.9805 - recall: 0.9679 - val_loss: 0.0647 - val_acc: 0.9790 - val_precision: 0.9947 - val_recall: 0.9513\n",
            "Epoch 7/10\n",
            "400000/400000 [==============================] - 33s 81us/step - loss: 0.0503 - acc: 0.9836 - precision: 0.9817 - recall: 0.9697 - val_loss: 0.0541 - val_acc: 0.9819 - val_precision: 0.9941 - val_recall: 0.9489\n",
            "Epoch 8/10\n",
            "400000/400000 [==============================] - 31s 78us/step - loss: 0.0473 - acc: 0.9848 - precision: 0.9834 - recall: 0.9711 - val_loss: 0.0339 - val_acc: 0.9884 - val_precision: 0.9909 - val_recall: 0.9738\n",
            "Epoch 9/10\n",
            "400000/400000 [==============================] - 32s 80us/step - loss: 0.0454 - acc: 0.9858 - precision: 0.9842 - recall: 0.9730 - val_loss: 0.0361 - val_acc: 0.9878 - val_precision: 0.9966 - val_recall: 0.9633\n",
            "Epoch 10/10\n",
            "400000/400000 [==============================] - 32s 79us/step - loss: 0.0449 - acc: 0.9862 - precision: 0.9847 - recall: 0.9741 - val_loss: 0.0354 - val_acc: 0.9876 - val_precision: 0.9967 - val_recall: 0.9607\n"
          ],
          "name": "stdout"
        }
      ]
    },
    {
      "cell_type": "code",
      "metadata": {
        "id": "ktLvktgkrFz1",
        "colab_type": "code",
        "outputId": "64451687-cffd-4368-d1d7-d607740fda48",
        "colab": {
          "base_uri": "https://localhost:8080/",
          "height": 102
        }
      },
      "source": [
        "score, accuracy, precision, recall = model1.evaluate(x_test, t_test)\n",
        "print(\"Score: \", score)\n",
        "print(\"Accuracy: \", accuracy)\n",
        "print(\"Precision: \", precision)\n",
        "print(\"Recall: \", recall)"
      ],
      "execution_count": 0,
      "outputs": [
        {
          "output_type": "stream",
          "text": [
            "100000/100000 [==============================] - 11s 105us/step\n",
            "Score:  0.03536485085642431\n",
            "Accuracy:  0.98757\n",
            "Precision:  0.996711829486583\n",
            "Recall:  0.9606705105160156\n"
          ],
          "name": "stdout"
        }
      ]
    },
    {
      "cell_type": "code",
      "metadata": {
        "id": "sNhjTyMP4mNc",
        "colab_type": "code",
        "colab": {}
      },
      "source": [
        ""
      ],
      "execution_count": 0,
      "outputs": []
    },
    {
      "cell_type": "code",
      "metadata": {
        "id": "iHfmuzclb7Se",
        "colab_type": "code",
        "outputId": "152b24a5-bff0-492d-c12b-4445d83b792e",
        "colab": {
          "base_uri": "https://localhost:8080/",
          "height": 822
        }
      },
      "source": [
        "\n",
        "# Loss Curves\n",
        "plt.figure(figsize=[8,6])\n",
        "plt.plot(history.history['loss'],'r',linewidth=3.0)\n",
        "plt.plot(history.history['val_loss'],'b',linewidth=3.0)\n",
        "plt.legend(['Training loss', 'Validation Loss'],fontsize=18)\n",
        "plt.xlabel('Epochs ',fontsize=16)\n",
        "plt.ylabel('Loss',fontsize=16)\n",
        "plt.title('Loss Curves',fontsize=16)\n",
        " \n",
        "# Accuracy Curves\n",
        "plt.figure(figsize=[8,6])\n",
        "plt.plot(history.history['acc'],'r',linewidth=3.0)\n",
        "plt.plot(history.history['val_acc'],'b',linewidth=3.0)\n",
        "plt.legend(['Training Accuracy', 'Validation Accuracy'],fontsize=18)\n",
        "plt.xlabel('Epochs ',fontsize=16)\n",
        "plt.ylabel('Accuracy',fontsize=16)\n",
        "plt.title('Accuracy Curves',fontsize=16)"
      ],
      "execution_count": 0,
      "outputs": [
        {
          "output_type": "execute_result",
          "data": {
            "text/plain": [
              "Text(0.5, 1.0, 'Accuracy Curves')"
            ]
          },
          "metadata": {
            "tags": []
          },
          "execution_count": 22
        },
        {
          "output_type": "display_data",
          "data": {
            "image/png": "[encoded data removed]",
            "text/plain": [
              "<Figure size 576x432 with 1 Axes>"
            ]
          },
          "metadata": {
            "tags": []
          }
        },
        {
          "output_type": "display_data",
          "data": {
            "image/png": "[encoded data removed]",
            "text/plain": [
              "<Figure size 576x432 with 1 Axes>"
            ]
          },
          "metadata": {
            "tags": []
          }
        }
      ]
    },
    {
      "cell_type": "code",
      "metadata": {
        "id": "CRjvB3GPv4OY",
        "colab_type": "code",
        "colab": {}
      },
      "source": [
        "from keras.layers.core import Activation\n",
        "from keras import backend as K"
      ],
      "execution_count": 0,
      "outputs": []
    },
    {
      "cell_type": "code",
      "metadata": {
        "id": "P7IT5X-3ZfGc",
        "colab_type": "code",
        "colab": {}
      },
      "source": [
        "\n",
        "model = Sequential()\n",
        "\n",
        "model.add(Conv2D(28, (3, 3), padding='same', input_shape=(28 , 28 , 4)))\n",
        "convout1 = Activation('relu')\n",
        "model.add(convout1)\n",
        "\n",
        "model.add(Conv2D(28, (3, 3)))\n",
        "convout2 = Activation('relu')\n",
        "model.add(convout2)\n",
        "\n",
        "convout3 = MaxPooling2D(pool_size=(2, 2))\n",
        "model.add(convout3)    \n",
        "model.add(Dropout(0.25))\n",
        "\n",
        "model.add(Conv2D(56, (3, 3), padding='same'))\n",
        "convout4 = Activation('relu')\n",
        "model.add(convout4)\n",
        "\n",
        "model.add(Conv2D(56, (3, 3)))\n",
        "convout5 = Activation('relu')\n",
        "model.add(convout5)\n",
        "\n",
        "convout6 = MaxPooling2D(pool_size=(2, 2))\n",
        "model.add(convout6)\n",
        "model.add(Dropout(0.25))\n",
        "\n",
        "model.add(Conv2D(56, (3, 3), padding='same'))\n",
        "convout7 = Activation('relu')\n",
        "model.add(convout1)\n",
        "\n",
        "model.add(Conv2D(56, (3, 3)))\n",
        "convout8 = Activation('relu')\n",
        "model.add(convout8)\n",
        "\n",
        "convout9 = MaxPooling2D(pool_size=(2, 2))\n",
        "model.add(convout9)\n",
        "model.add(Dropout(0.25))\n",
        "\n",
        "model.add(Flatten())\n",
        "model.add(Dense(512, activation='relu'))\n",
        "model.add(Dropout(0.5))\n",
        "model.add(Dense(nClasses, activation='softmax'))\n"
      ],
      "execution_count": 0,
      "outputs": []
    },
    {
      "cell_type": "code",
      "metadata": {
        "id": "SUDuJzAzu8Lh",
        "colab_type": "code",
        "outputId": "681bc163-bc87-41f9-d3c8-fc9bb4c22b16",
        "colab": {
          "base_uri": "https://localhost:8080/",
          "height": 850
        }
      },
      "source": [
        "model.summary()"
      ],
      "execution_count": 0,
      "outputs": [
        {
          "output_type": "stream",
          "text": [
            "_________________________________________________________________\n",
            "Layer (type)                 Output Shape              Param #   \n",
            "=================================================================\n",
            "conv2d_7 (Conv2D)            (None, 28, 28, 28)        1036      \n",
            "_________________________________________________________________\n",
            "activation_7 (Activation)    multiple                  0         \n",
            "_________________________________________________________________\n",
            "conv2d_8 (Conv2D)            (None, 26, 26, 28)        7084      \n",
            "_________________________________________________________________\n",
            "activation_8 (Activation)    (None, 26, 26, 28)        0         \n",
            "_________________________________________________________________\n",
            "max_pooling2d_4 (MaxPooling2 (None, 13, 13, 28)        0         \n",
            "_________________________________________________________________\n",
            "dropout_5 (Dropout)          (None, 13, 13, 28)        0         \n",
            "_________________________________________________________________\n",
            "conv2d_9 (Conv2D)            (None, 13, 13, 56)        14168     \n",
            "_________________________________________________________________\n",
            "activation_9 (Activation)    (None, 13, 13, 56)        0         \n",
            "_________________________________________________________________\n",
            "conv2d_10 (Conv2D)           (None, 11, 11, 56)        28280     \n",
            "_________________________________________________________________\n",
            "activation_10 (Activation)   (None, 11, 11, 56)        0         \n",
            "_________________________________________________________________\n",
            "max_pooling2d_5 (MaxPooling2 (None, 5, 5, 56)          0         \n",
            "_________________________________________________________________\n",
            "dropout_6 (Dropout)          (None, 5, 5, 56)          0         \n",
            "_________________________________________________________________\n",
            "conv2d_11 (Conv2D)           (None, 5, 5, 56)          28280     \n",
            "_________________________________________________________________\n",
            "conv2d_12 (Conv2D)           (None, 3, 3, 56)          28280     \n",
            "_________________________________________________________________\n",
            "activation_12 (Activation)   (None, 3, 3, 56)          0         \n",
            "_________________________________________________________________\n",
            "max_pooling2d_6 (MaxPooling2 (None, 1, 1, 56)          0         \n",
            "_________________________________________________________________\n",
            "dropout_7 (Dropout)          (None, 1, 1, 56)          0         \n",
            "_________________________________________________________________\n",
            "flatten_2 (Flatten)          (None, 56)                0         \n",
            "_________________________________________________________________\n",
            "dense_3 (Dense)              (None, 512)               29184     \n",
            "_________________________________________________________________\n",
            "dropout_8 (Dropout)          (None, 512)               0         \n",
            "_________________________________________________________________\n",
            "dense_4 (Dense)              (None, 4)                 2052      \n",
            "=================================================================\n",
            "Total params: 138,364\n",
            "Trainable params: 138,364\n",
            "Non-trainable params: 0\n",
            "_________________________________________________________________\n"
          ],
          "name": "stdout"
        }
      ]
    },
    {
      "cell_type": "code",
      "metadata": {
        "id": "W-3qdvZNvBew",
        "colab_type": "code",
        "outputId": "8e0ecaf4-a551-406f-e744-e4e74dc038d6",
        "colab": {
          "base_uri": "https://localhost:8080/",
          "height": 850
        }
      },
      "source": [
        "\n",
        "img_to_visualize = x_train[65]\n",
        "img_to_visualize = np.expand_dims(img_to_visualize, axis=0)\n",
        "print(img_to_visualize)\n",
        "\n",
        "\n",
        "# # with a Sequential model\n",
        "get_3rd_layer_output = K.function([model.layers[0].input], [model.layers[3].output])\n",
        "layer_output = get_3rd_layer_output([x_train])[0]"
      ],
      "execution_count": 0,
      "outputs": [
        {
          "output_type": "stream",
          "text": [
            "[[[[145 144 126 151]\n",
            "   [157 152 133 149]\n",
            "   [161 152 131 147]\n",
            "   ...\n",
            "   [139 138 123 166]\n",
            "   [141 139 122 162]\n",
            "   [138 135 117 161]]\n",
            "\n",
            "  [[153 150 129 153]\n",
            "   [157 146 131 148]\n",
            "   [167 157 134 146]\n",
            "   ...\n",
            "   [137 136 119 169]\n",
            "   [141 137 123 162]\n",
            "   [137 135 123 159]]\n",
            "\n",
            "  [[153 151 134 153]\n",
            "   [157 148 135 147]\n",
            "   [164 156 134 143]\n",
            "   ...\n",
            "   [143 140 119 169]\n",
            "   [140 139 121 163]\n",
            "   [142 138 117 165]]\n",
            "\n",
            "  ...\n",
            "\n",
            "  [[145 138 120 159]\n",
            "   [148 143 119 156]\n",
            "   [149 147 122 156]\n",
            "   ...\n",
            "   [180 169 146 158]\n",
            "   [168 155 136 158]\n",
            "   [159 150 130 159]]\n",
            "\n",
            "  [[144 144 126 155]\n",
            "   [145 138 123 153]\n",
            "   [145 143 120 156]\n",
            "   ...\n",
            "   [171 156 140 155]\n",
            "   [158 147 136 155]\n",
            "   [155 147 126 160]]\n",
            "\n",
            "  [[131 133 118 153]\n",
            "   [128 132 120 153]\n",
            "   [138 140 122 156]\n",
            "   ...\n",
            "   [165 155 137 151]\n",
            "   [151 141 135 154]\n",
            "   [146 140 127 161]]]]\n"
          ],
          "name": "stdout"
        }
      ]
    },
    {
      "cell_type": "code",
      "metadata": {
        "id": "EkB7clncvbWw",
        "colab_type": "code",
        "colab": {}
      },
      "source": [
        "def layer_to_visualize(layer):\n",
        "    inputs = [K.learning_phase()] + model.inputs\n",
        "    print(layer.output)\n",
        "\n",
        "#     _convout1_f = K.function(inputs, [layer.output])\n",
        "    def convout1_f(X):\n",
        "        # The [0] is to disable the training phase flag\n",
        "        return _convout1_f([0] + [X])\n",
        "\n",
        "#     convolutions = convout1_f(img_to_visualize)\n",
        "#     convolutions = np.squeeze(convolutions)\n",
        "\n",
        "#     print ('Shape of conv:', convolutions.shape)\n",
        "    \n",
        "#     n = convolutions.shape[0]\n",
        "#     n = int(np.ceil(np.sqrt(n)))\n",
        "    \n",
        "#     # Visualization of each filter of the layer\n",
        "#     fig = plt.figure(figsize=(12,8))\n",
        "#     for i in range(len(convolutions)):\n",
        "#         ax = fig.add_subplot(n,n,i+1)\n",
        "#         ax.imshow(convolutions[i], cmap='gray')"
      ],
      "execution_count": 0,
      "outputs": []
    },
    {
      "cell_type": "code",
      "metadata": {
        "id": "xgriFtvjvkj-",
        "colab_type": "code",
        "outputId": "250077e0-971a-43cb-ab51-8f0cfcb2a728",
        "colab": {
          "base_uri": "https://localhost:8080/",
          "height": 214
        }
      },
      "source": [
        "layer_name = 'my_layer'\n",
        "intermediate_layer_model = Model(inputs=model.input,\n",
        "                                 outputs=model.get_layer(layer_name).output)\n",
        "intermediate_output = intermediate_layer_model.predict(data)"
      ],
      "execution_count": 0,
      "outputs": [
        {
          "output_type": "error",
          "ename": "NameError",
          "evalue": "ignored",
          "traceback": [
            "\u001b[0;31m---------------------------------------------------------------------------\u001b[0m",
            "\u001b[0;31mNameError\u001b[0m                                 Traceback (most recent call last)",
            "\u001b[0;32m<ipython-input-20-e22ce9eb8b8c>\u001b[0m in \u001b[0;36m<module>\u001b[0;34m()\u001b[0m\n\u001b[1;32m      1\u001b[0m \u001b[0mlayer_name\u001b[0m \u001b[0;34m=\u001b[0m \u001b[0;34m'my_layer'\u001b[0m\u001b[0;34m\u001b[0m\u001b[0;34m\u001b[0m\u001b[0m\n\u001b[0;32m----> 2\u001b[0;31m intermediate_layer_model = Model(inputs=model.input,\n\u001b[0m\u001b[1;32m      3\u001b[0m                                  outputs=model.get_layer(layer_name).output)\n\u001b[1;32m      4\u001b[0m \u001b[0mintermediate_output\u001b[0m \u001b[0;34m=\u001b[0m \u001b[0mintermediate_layer_model\u001b[0m\u001b[0;34m.\u001b[0m\u001b[0mpredict\u001b[0m\u001b[0;34m(\u001b[0m\u001b[0mdata\u001b[0m\u001b[0;34m)\u001b[0m\u001b[0;34m\u001b[0m\u001b[0;34m\u001b[0m\u001b[0m\n",
            "\u001b[0;31mNameError\u001b[0m: name 'Model' is not defined"
          ]
        }
      ]
    },
    {
      "cell_type": "code",
      "metadata": {
        "id": "JK3bOJdsvnbB",
        "colab_type": "code",
        "colab": {}
      },
      "source": [
        ""
      ],
      "execution_count": 0,
      "outputs": []
    }
  ]
}