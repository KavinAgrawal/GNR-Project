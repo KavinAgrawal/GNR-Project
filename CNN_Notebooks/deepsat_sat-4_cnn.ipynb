{
  "nbformat": 4,
  "nbformat_minor": 0,
  "metadata": {
    "colab": {
      "name": "deepsat_dataset_cnn.ipynb",
      "version": "0.3.2",
      "provenance": [],
      "collapsed_sections": []
    },
    "kernelspec": {
      "name": "python3",
      "display_name": "Python 3"
    },
    "accelerator": "GPU"
  },
  "cells": [
    {
      "metadata": {
        "id": "t5Gp6VZ9MLuA",
        "colab_type": "code",
        "outputId": "4f69a4c1-1c9f-4642-a060-6e7b2e4bfc04",
        "colab": {
          "base_uri": "https://localhost:8080/",
          "height": 34
        }
      },
      "cell_type": "code",
      "source": [
        "pwd\n"
      ],
      "execution_count": 0,
      "outputs": [
        {
          "output_type": "execute_result",
          "data": {
            "text/plain": [
              "'/content'"
            ]
          },
          "metadata": {
            "tags": []
          },
          "execution_count": 4
        }
      ]
    },
    {
      "metadata": {
        "id": "q7SfmD4TMOIm",
        "colab_type": "code",
        "outputId": "962a700a-3604-48c1-e9e1-15bc65a2c3b4",
        "colab": {
          "base_uri": "https://localhost:8080/",
          "height": 121
        }
      },
      "cell_type": "code",
      "source": [
        "from google.colab import drive\n",
        "drive.mount('/content/gdrive') "
      ],
      "execution_count": 1,
      "outputs": [
        {
          "output_type": "stream",
          "text": [
            "Go to this URL in a browser: https://accounts.google.com/o/oauth2/auth?client_id=947318989803-6bn6qk8qdgf4n4g3pfee6491hc0brc4i.apps.googleusercontent.com&redirect_uri=urn%3Aietf%3Awg%3Aoauth%3A2.0%3Aoob&scope=email%20https%3A%2F%2Fwww.googleapis.com%2Fauth%2Fdocs.test%20https%3A%2F%2Fwww.googleapis.com%2Fauth%2Fdrive%20https%3A%2F%2Fwww.googleapis.com%2Fauth%2Fdrive.photos.readonly%20https%3A%2F%2Fwww.googleapis.com%2Fauth%2Fpeopleapi.readonly&response_type=code\n",
            "\n",
            "Enter your authorization code:\n",
            "··········\n",
            "Mounted at /content/gdrive\n"
          ],
          "name": "stdout"
        }
      ]
    },
    {
      "metadata": {
        "id": "59wQVwNNMWlB",
        "colab_type": "code",
        "outputId": "3aeac73c-1de9-425c-8022-26370f561deb",
        "colab": {
          "base_uri": "https://localhost:8080/",
          "height": 34
        }
      },
      "cell_type": "code",
      "source": [
        "cd /content/gdrive/My Drive/Kaggle/"
      ],
      "execution_count": 2,
      "outputs": [
        {
          "output_type": "stream",
          "text": [
            "/content/gdrive/My Drive/Kaggle\n"
          ],
          "name": "stdout"
        }
      ]
    },
    {
      "metadata": {
        "id": "J29rvSs3nRol",
        "colab_type": "code",
        "outputId": "b00da663-ee48-407a-93c4-718fbe23f421",
        "colab": {
          "base_uri": "https://localhost:8080/",
          "height": 50
        }
      },
      "cell_type": "code",
      "source": [
        "ls"
      ],
      "execution_count": 3,
      "outputs": [
        {
          "output_type": "stream",
          "text": [
            "'Data Science.gdoc'                       sat-4-full.mat\n",
            "'Online Courses for Data Science .gdoc'   Untitled0.ipynb\n"
          ],
          "name": "stdout"
        }
      ]
    },
    {
      "metadata": {
        "id": "HNdC3LLOLhf9",
        "colab_type": "code",
        "colab": {}
      },
      "cell_type": "code",
      "source": [
        "import scipy.io as sio\n",
        "\n",
        "IMAGES_DATA_PATH = 'sat-4-full.mat'\n",
        "\n",
        "def load_image_data(images_data_path=IMAGES_DATA_PATH):\n",
        "    print(\"##########    Loading Data    ##########\")    \n",
        "    test = sio.loadmat(images_data_path)\n",
        "    print(test)\n",
        "    print(\"##########    Data type    ###########\")\n",
        "    print(type(test))\n",
        "    print(test.values())\n",
        "    return test\n",
        "\n",
        " "
      ],
      "execution_count": 0,
      "outputs": []
    },
    {
      "metadata": {
        "id": "iHfmuzclb7Se",
        "colab_type": "code",
        "outputId": "05593271-2594-4591-834b-8556d85c83a6",
        "colab": {
          "base_uri": "https://localhost:8080/",
          "height": 1313
        }
      },
      "cell_type": "code",
      "source": [
        "#checkout the data\n",
        "from keras.utils import to_categorical\n",
        "from keras import optimizers\n",
        "\n",
        "#models\n",
        "from keras.models import Sequential\n",
        "from keras.layers import Dense, Conv2D, MaxPooling2D, Dropout, Flatten\n",
        "\n",
        "#helper\n",
        "import numpy as np\n",
        "import matplotlib.pyplot as plt\n",
        "import tensorflow as tf\n",
        "\n",
        "\n",
        " \n",
        "\n",
        "###############################################################################\n",
        "#load the data\n",
        "import scipy.io\n",
        "data = scipy.io.loadmat(\"sat-4-full.mat\")\n",
        "train_images = data['train_x']\n",
        "train_labels = data['train_y']\n",
        "\n",
        "test_images = data['test_x']\n",
        "test_labels = data['test_y']\n",
        "\n",
        "####################################################################\n",
        "#Checkout the data\n",
        "print('Training data shape : ', train_images.shape, train_labels.shape)\n",
        "print('Testing data shape : ', test_images.shape, test_labels.shape)\n",
        "\n",
        "#Change the dimension to fit into the model\n",
        "x_train = train_images.transpose(3,0,1,2)\n",
        "t_train = train_labels.transpose()\n",
        "\n",
        "x_test = test_images.transpose(3,0,1,2)\n",
        "t_test = test_labels.transpose()\n",
        "\n",
        "print('Training data shape : ', x_train.shape, t_train.shape)\n",
        "print('Testing data shape : ', x_test.shape, t_test.shape)\n",
        "\n",
        "\n",
        "#Find the unique numbers from the train labels\n",
        "nClasses = 4\n",
        " \n",
        "#Display the change for category label using one-hot encoding\n",
        "print('Original label 0 : ', t_train[0])\n",
        "print('After conversion to categorical ( one-hot ) : ', t_train[0])\n",
        "\n",
        "\n",
        "##################################################################\n",
        "#preprocess\n",
        "#x_train = x_train.astype('float32')\n",
        "#x_test = x_test.astype('float32')\n",
        "#x_train /= 255\n",
        "#x_test /= 255\n",
        "#memory error may be because entire data set could not fit into RAM\n",
        "\n",
        "#preprocess\n",
        "for t in x_train:\n",
        "    t = t.astype('float32')\n",
        "    t /= 255\n",
        "for t in x_test:\n",
        "    t = t.astype('float32')\n",
        "    t /= 255\n",
        "    \n",
        "###########################################################################################3\n",
        "def createModel():\n",
        "    model = Sequential()\n",
        "    model.add(Conv2D(28, (3, 3), padding='same', activation='relu', input_shape=(28 , 28 , 4)))\n",
        "    model.add(Conv2D(28, (3, 3), activation='relu'))\n",
        "    model.add(MaxPooling2D(pool_size=(2, 2)))\n",
        "    model.add(Dropout(0.25))\n",
        " \n",
        "    model.add(Conv2D(56, (3, 3), padding='same', activation='relu'))\n",
        "    model.add(Conv2D(56, (3, 3), activation='relu'))\n",
        "    model.add(MaxPooling2D(pool_size=(2, 2)))\n",
        "    model.add(Dropout(0.25))\n",
        " \n",
        "    model.add(Conv2D(56, (3, 3), padding='same', activation='relu'))\n",
        "    model.add(Conv2D(56, (3, 3), activation='relu'))\n",
        "    model.add(MaxPooling2D(pool_size=(2, 2)))\n",
        "    model.add(Dropout(0.25))\n",
        " \n",
        "    model.add(Flatten())\n",
        "    model.add(Dense(512, activation='relu'))\n",
        "    model.add(Dropout(0.5))\n",
        "    model.add(Dense(nClasses, activation='softmax'))\n",
        "     \n",
        "    return model\n",
        "#################################################################################\n",
        "#serialize model to JSON\n",
        "def SerializeToJSON(model,model_path):\n",
        "    model_json = model.to_json()\n",
        "    model_json_file_name = input(\"Enter json filename to save :\")\n",
        "    model_json_file_path = model_path + model_json_file_name\n",
        "    print(model_json_file_path)\n",
        "    with open(model_json_file_path, \"w\") as json_file:\n",
        "        json_file.write(model_json)\n",
        "\n",
        "    #serialize weights to HDF5\n",
        "    model_weight_json_file_name = input(\"Enter json weight filename to save :\")\n",
        "    model_json_weight_file_path = model_path + model_weight_json_file_name\n",
        "    model.save_weights(model_json_weight_file_path)\n",
        "    print(\"Saved model json to the disk\")\n",
        "\n",
        "#Training the network\n",
        "model1 = createModel()\n",
        "\n",
        "batch_size = 256\n",
        "epochs = 10\n",
        "rms = optimizers.RMSprop(lr=0.0001, rho=0.9, epsilon=None, decay=0.0)\n",
        "model1.compile(optimizer=rms, loss='categorical_crossentropy', metrics=['accuracy'])\n",
        " \n",
        "history = model1.fit(x_train, t_train, batch_size=batch_size, epochs=epochs, verbose=1, validation_data=(x_test, t_test))\n",
        " \n",
        "score, accuracy = model1.evaluate(x_test, t_test)\n",
        "\n",
        "#######################################################\n",
        "#Serialize model\n",
        "# model_path = \"../../models/\"\n",
        "# SerializeToJSON(model1,model_path)\n",
        "\n",
        "#model_path = \"../models/land_classifiction_Lr0.0001_v1.yaml\"\n",
        "#SerializeToYAML(model,model_path)\n",
        "\n",
        "# Loss Curves\n",
        "plt.figure(figsize=[8,6])\n",
        "plt.plot(history.history['loss'],'r',linewidth=3.0)\n",
        "plt.plot(history.history['val_loss'],'b',linewidth=3.0)\n",
        "plt.legend(['Training loss', 'Validation Loss'],fontsize=18)\n",
        "plt.xlabel('Epochs ',fontsize=16)\n",
        "plt.ylabel('Loss',fontsize=16)\n",
        "plt.title('Loss Curves',fontsize=16)\n",
        " \n",
        "# Accuracy Curves\n",
        "plt.figure(figsize=[8,6])\n",
        "plt.plot(history.history['acc'],'r',linewidth=3.0)\n",
        "plt.plot(history.history['val_acc'],'b',linewidth=3.0)\n",
        "plt.legend(['Training Accuracy', 'Validation Accuracy'],fontsize=18)\n",
        "plt.xlabel('Epochs ',fontsize=16)\n",
        "plt.ylabel('Accuracy',fontsize=16)\n",
        "plt.title('Accuracy Curves',fontsize=16)"
      ],
      "execution_count": 6,
      "outputs": [
        {
          "output_type": "stream",
          "text": [
            "Training data shape :  (28, 28, 4, 400000) (4, 400000)\n",
            "Testing data shape :  (28, 28, 4, 100000) (4, 100000)\n",
            "Training data shape :  (400000, 28, 28, 4) (400000, 4)\n",
            "Testing data shape :  (100000, 28, 28, 4) (100000, 4)\n",
            "Original label 0 :  [0 0 0 1]\n",
            "After conversion to categorical ( one-hot ) :  [0 0 0 1]\n",
            "Train on 400000 samples, validate on 100000 samples\n",
            "Epoch 1/10\n",
            "400000/400000 [==============================] - 52s 130us/step - loss: 0.3545 - acc: 0.8701 - val_loss: 0.1512 - val_acc: 0.9482\n",
            "Epoch 2/10\n",
            "400000/400000 [==============================] - 48s 120us/step - loss: 0.1244 - acc: 0.9573 - val_loss: 0.0894 - val_acc: 0.9697\n",
            "Epoch 3/10\n",
            "400000/400000 [==============================] - 52s 131us/step - loss: 0.0828 - acc: 0.9717 - val_loss: 0.0746 - val_acc: 0.9747\n",
            "Epoch 4/10\n",
            "400000/400000 [==============================] - 51s 127us/step - loss: 0.0645 - acc: 0.9789 - val_loss: 0.0517 - val_acc: 0.9840\n",
            "Epoch 5/10\n",
            "400000/400000 [==============================] - 61s 153us/step - loss: 0.0560 - acc: 0.9817 - val_loss: 0.0485 - val_acc: 0.9835\n",
            "Epoch 6/10\n",
            "400000/400000 [==============================] - 64s 161us/step - loss: 0.0500 - acc: 0.9836 - val_loss: 0.0432 - val_acc: 0.9854\n",
            "Epoch 7/10\n",
            "400000/400000 [==============================] - 65s 163us/step - loss: 0.0461 - acc: 0.9851 - val_loss: 0.0390 - val_acc: 0.9879\n",
            "Epoch 8/10\n",
            "400000/400000 [==============================] - 64s 161us/step - loss: 0.0444 - acc: 0.9857 - val_loss: 0.0500 - val_acc: 0.9839\n",
            "Epoch 9/10\n",
            "400000/400000 [==============================] - 65s 163us/step - loss: 0.0425 - acc: 0.9864 - val_loss: 0.0335 - val_acc: 0.9896\n",
            "Epoch 10/10\n",
            "400000/400000 [==============================] - 65s 161us/step - loss: 0.0416 - acc: 0.9869 - val_loss: 0.0402 - val_acc: 0.9856\n",
            "100000/100000 [==============================] - 8s 80us/step\n"
          ],
          "name": "stdout"
        },
        {
          "output_type": "execute_result",
          "data": {
            "text/plain": [
              "Text(0.5, 1.0, 'Accuracy Curves')"
            ]
          },
          "metadata": {
            "tags": []
          },
          "execution_count": 6
        },
        {
          "output_type": "display_data",
          "data": {
            "image/png": "[encoded data removed]",
            "text/plain": [
              "<Figure size 576x432 with 1 Axes>"
            ]
          },
          "metadata": {
            "tags": []
          }
        },
        {
          "output_type": "display_data",
          "data": {
            "image/png": "[encoded data removed]",
            "text/plain": [
              "<Figure size 576x432 with 1 Axes>"
            ]
          },
          "metadata": {
            "tags": []
          }
        }
      ]
    },
    {
      "metadata": {
        "id": "iLJMRTi6ZYa_",
        "colab_type": "code",
        "colab": {
          "base_uri": "https://localhost:8080/",
          "height": 67
        },
        "outputId": "e22f43ce-73c0-4eba-dcd4-86c6a4cf4684"
      },
      "cell_type": "code",
      "source": [
        "score, accuracy = model1.evaluate(x_test, t_test)\n",
        "print(\"Score: \", score)\n",
        "print(\"Accuracy: \", accuracy)"
      ],
      "execution_count": 9,
      "outputs": [
        {
          "output_type": "stream",
          "text": [
            "100000/100000 [==============================] - 8s 81us/step\n",
            "Score:  0.04021771228384343\n",
            "Accuracy:  0.98565\n"
          ],
          "name": "stdout"
        }
      ]
    },
    {
      "metadata": {
        "id": "P7IT5X-3ZfGc",
        "colab_type": "code",
        "colab": {}
      },
      "cell_type": "code",
      "source": [
        ""
      ],
      "execution_count": 0,
      "outputs": []
    }
  ]
}